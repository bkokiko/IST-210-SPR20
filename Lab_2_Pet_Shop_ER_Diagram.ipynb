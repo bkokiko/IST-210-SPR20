{
  "nbformat": 4,
  "nbformat_minor": 0,
  "metadata": {
    "colab": {
      "name": "Lab 2 Pet Shop ER Diagram.ipynb",
      "provenance": [],
      "collapsed_sections": [],
      "authorship_tag": "ABX9TyN361dKNBPFNDzB3r1ZwAuu",
      "include_colab_link": true
    },
    "kernelspec": {
      "name": "python3",
      "display_name": "Python 3"
    }
  },
  "cells": [
    {
      "cell_type": "markdown",
      "metadata": {
        "id": "view-in-github",
        "colab_type": "text"
      },
      "source": [
        "<a href=\"https://colab.research.google.com/github/bkokiko/IST-210-SPR20/blob/master/Lab_2_Pet_Shop_ER_Diagram.ipynb\" target=\"_parent\"><img src=\"https://colab.research.google.com/assets/colab-badge.svg\" alt=\"Open In Colab\"/></a>"
      ]
    },
    {
      "cell_type": "markdown",
      "metadata": {
        "id": "-wL8NXT6_B0m",
        "colab_type": "text"
      },
      "source": [
        "#Pet Shop ER Diagram"
      ]
    },
    {
      "cell_type": "markdown",
      "metadata": {
        "id": "mUtWYXlV_Ld1",
        "colab_type": "text"
      },
      "source": [
        "##Description"
      ]
    },
    {
      "cell_type": "markdown",
      "metadata": {
        "id": "qA5oT4dGGeQA",
        "colab_type": "text"
      },
      "source": [
        "When creating this entity relationship diagram for the manager of this pet shop, there are many things to consider when creating this relationship. More specifically, what type of inforamtion must be stored that would be useful for the pet shop to track. I broke the prompt into six main tables and listed attributes to go along with each table to provide the user with a little more context. For the first table, the data being tracked will pertain to the pets being sold at the store. The attribute types that will be stored in this pet table will be the breed;to see what kind of animal it is, the cost of the pet and they're medical records to see what shots they may or may not need. The second table will be the enclosures to see where and what they are being held in. The attributes types that will go along with this table will be cage id to uniquely identify the enclosure, the breed (foreign key), the kinds of enclosures available, and the maintenance logs and cost. The third table will consist of information peetaining to the food being sold and information like food id (what it is), the loyalty id for rewards for customers, and the cost of the food. The next table being tracked is the customer's information. The data being kept in this table will consist of their loyalty id to track their rewards, first/last name, phone number and home address to keep a basic profile of the shopper. The last two tables were asked by the user to keep seperatley as they splt transactions into two different tables : Pet Transactions and Food Transactions. For the Transaction of Pets the data being kept will contain a unique purchase id, loyalty id and a pet id.For the Transaction of food the data being kept will contain a unique purchase id, loyalty id, cost of the food and a food id."
      ]
    },
    {
      "cell_type": "markdown",
      "metadata": {
        "id": "32q87IV__PU9",
        "colab_type": "text"
      },
      "source": [
        "##Tables"
      ]
    },
    {
      "cell_type": "markdown",
      "metadata": {
        "id": "YzNbm9dHGJj_",
        "colab_type": "text"
      },
      "source": [
        "![alt text](https://raw.githubusercontent.com/bkokiko/IST-210-SPR20/master/Lab%202%20Pet%20Shop/Screen%20Shot%202020-02-13%20at%202.11.34%20PM.png)"
      ]
    },
    {
      "cell_type": "markdown",
      "metadata": {
        "id": "jHiF75RV_WAl",
        "colab_type": "text"
      },
      "source": [
        "##Diagram"
      ]
    },
    {
      "cell_type": "markdown",
      "metadata": {
        "id": "MYT9WUfs0mSi",
        "colab_type": "text"
      },
      "source": [
        "![alt text](https://raw.githubusercontent.com/bkokiko/IST-210-SPR20/master/Group%20Assign1/Screen%20Shot%202020-02-18%20at%202.40.31%20PM.png)"
      ]
    }
  ]
}