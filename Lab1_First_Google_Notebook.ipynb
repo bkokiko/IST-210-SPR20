{
  "nbformat": 4,
  "nbformat_minor": 0,
  "metadata": {
    "colab": {
      "name": "Lab1 First Google Notebook",
      "provenance": [],
      "collapsed_sections": [],
      "authorship_tag": "ABX9TyOrH1yHH/r4iAZJsAdlE6pY",
      "include_colab_link": true
    },
    "kernelspec": {
      "name": "python3",
      "display_name": "Python 3"
    }
  },
  "cells": [
    {
      "cell_type": "markdown",
      "metadata": {
        "id": "view-in-github",
        "colab_type": "text"
      },
      "source": [
        "<a href=\"https://colab.research.google.com/github/bkokiko/IST-210-SPR20/blob/master/Lab1_First_Google_Notebook.ipynb\" target=\"_parent\"><img src=\"https://colab.research.google.com/assets/colab-badge.svg\" alt=\"Open In Colab\"/></a>"
      ]
    },
    {
      "cell_type": "markdown",
      "metadata": {
        "id": "MbMl82e934ep",
        "colab_type": "text"
      },
      "source": [
        "#Lab1 IST 210 "
      ]
    },
    {
      "cell_type": "markdown",
      "metadata": {
        "id": "zXTpRd_3FQ7B",
        "colab_type": "text"
      },
      "source": [
        "##Name"
      ]
    },
    {
      "cell_type": "markdown",
      "metadata": {
        "id": "Kxq5JoOr4BkS",
        "colab_type": "text"
      },
      "source": [
        "Brenden Kokiko"
      ]
    },
    {
      "cell_type": "markdown",
      "metadata": {
        "id": "2GieEgaK4F6w",
        "colab_type": "text"
      },
      "source": [
        "##IST Related Interests "
      ]
    },
    {
      "cell_type": "markdown",
      "metadata": {
        "id": "KfgMAgPA4NNd",
        "colab_type": "text"
      },
      "source": [
        "Some of my IST related interests include coding, artificial intelligence, and how people can solve real world problems like bio informatics, solid works to make models for machinery for example, regulating stock market. I have always been interested in how computer science can relate to almost anything and everything."
      ]
    },
    {
      "cell_type": "markdown",
      "metadata": {
        "id": "zzq5scn54uSp",
        "colab_type": "text"
      },
      "source": [
        "##Future Job/Career"
      ]
    },
    {
      "cell_type": "markdown",
      "metadata": {
        "id": "Cp6SM59t4zMk",
        "colab_type": "text"
      },
      "source": [
        "Hopefully after I graduate from Penn State, I hope to work somewhere on the data science field. My current major is computational data science but I hope to have a career in some type of data analytic company. I would like to move somewhere down south ideally, but where ever internships may take me, I'll go there too."
      ]
    },
    {
      "cell_type": "markdown",
      "metadata": {
        "id": "8jIxaOg-4_zM",
        "colab_type": "text"
      },
      "source": [
        "##Picture"
      ]
    },
    {
      "cell_type": "markdown",
      "metadata": {
        "id": "tvtwVAx_vkp8",
        "colab_type": "text"
      },
      "source": [
        "![alt text](https://raw.githubusercontent.com/bkokiko/IST-210-SPR20/master/Lab1/lAb1IST.jpg)"
      ]
    }
  ]
}