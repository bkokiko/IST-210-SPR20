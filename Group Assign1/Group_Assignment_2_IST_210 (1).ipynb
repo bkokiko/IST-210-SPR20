{
  "nbformat": 4,
  "nbformat_minor": 0,
  "metadata": {
    "colab": {
      "name": "Group Assignment #2 IST 210.ipynb",
      "provenance": [],
      "collapsed_sections": []
    },
    "kernelspec": {
      "name": "python3",
      "display_name": "Python 3"
    }
  },
  "cells": [
    {
      "cell_type": "markdown",
      "metadata": {
        "id": "ibpNUobRi2vL",
        "colab_type": "text"
      },
      "source": [
        "#Group Assignment 2 EER Diagram"
      ]
    },
    {
      "cell_type": "markdown",
      "metadata": {
        "id": "pdVTm09IjDIo",
        "colab_type": "text"
      },
      "source": [
        "##NBA Database Diagram"
      ]
    },
    {
      "cell_type": "markdown",
      "metadata": {
        "id": "Uf0PokIZjHjM",
        "colab_type": "text"
      },
      "source": [
        "![alt text](https://raw.githubusercontent.com/bkokiko/IST-210-SPR20/master/Group%20Assign1/Screen%20Shot%202020-02-27%20at%209.09.32%20PM.png)"
      ]
    },
    {
      "cell_type": "markdown",
      "metadata": {
        "id": "1HBGHvVDj7kK",
        "colab_type": "text"
      },
      "source": [
        "We wanted to create a database that analyzes various components of the National Basketball Association. We intend to create this database as a use for owners and general managers for each given team as a way to track five different entities that could help manage the team’s players, track their statistics, compare schedules, track attendance and follow incoming revenue. The goal of this database is to make these types of information available and ready to use as quickly as possible, so the management team for their respective NBA teams can make decisions various things like lineups for the games, when to schedule games, how to adjust the lineups to better suit the teams success, and changes to the arena itself to increase attendance and revenue. What makes this idea unique is that today no such database exists. Some databases exist for the individual entities such as Statistics trackers. Our database plans to create something that combines these entities into one easy, accessible place, so as much information is available to help making a decision about the welfare of the team. A basic day in this business will go a bit something like this: Each entity will act as a sort of ‘department’ that has a team dedicated to tracking and analyzing its respective entity, and once that occurs, those analyses will be uploaded to the main database(which is the one the end user will see). Finally, there will be an extra team that is dedicated to ‘cleaning up and refining’ the main/final database that will actually be used by the owners of the respective NBA teams."
      ]
    }
  ]
}