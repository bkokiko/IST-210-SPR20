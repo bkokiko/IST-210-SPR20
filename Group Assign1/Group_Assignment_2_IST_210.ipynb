{
  "nbformat": 4,
  "nbformat_minor": 0,
  "metadata": {
    "colab": {
      "name": "Group Assignment #2 IST 210.ipynb",
      "provenance": [],
      "collapsed_sections": []
    },
    "kernelspec": {
      "name": "python3",
      "display_name": "Python 3"
    }
  },
  "cells": [
    {
      "cell_type": "markdown",
      "metadata": {
        "id": "ibpNUobRi2vL",
        "colab_type": "text"
      },
      "source": [
        "#Group Assignment 2 EER Diagram"
      ]
    },
    {
      "cell_type": "markdown",
      "metadata": {
        "id": "pdVTm09IjDIo",
        "colab_type": "text"
      },
      "source": [
        "##NBA Database Diagram"
      ]
    },
    {
      "cell_type": "markdown",
      "metadata": {
        "id": "Uf0PokIZjHjM",
        "colab_type": "text"
      },
      "source": [
        "![alt text](https://raw.githubusercontent.com/bkokiko/IST-210-SPR20/master/Group%20Assign1/Screen%20Shot%202020-02-27%20at%209.09.32%20PM.png)"
      ]
    },
    {
      "cell_type": "markdown",
      "metadata": {
        "id": "1HBGHvVDj7kK",
        "colab_type": "text"
      },
      "source": [
        ""
      ]
    }
  ]
}